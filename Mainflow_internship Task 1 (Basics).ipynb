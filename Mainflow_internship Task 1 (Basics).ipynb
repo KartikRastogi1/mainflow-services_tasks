{
 "cells": [
  {
   "cell_type": "code",
   "execution_count": 12,
   "id": "59ed9af2",
   "metadata": {},
   "outputs": [
    {
     "name": "stdout",
     "output_type": "stream",
     "text": [
      "Updated list: [62, 2, 3, 4, 5, 6, 7, 9]\n"
     ]
    }
   ],
   "source": [
    "#Creating a list\n",
    "l1 = [1,2,3,4,5,6,7,8]\n",
    "\n",
    "#adding an element to the list\n",
    "l1.append(9)\n",
    "\n",
    "#Removing an element from the list\n",
    "l1.remove(8)\n",
    "\n",
    "#modifying an element in the list \n",
    "l1[0] = 62\n",
    "\n",
    "print(\"Updated list:\",l1)"
   ]
  },
  {
   "cell_type": "code",
   "execution_count": 13,
   "id": "50da0676",
   "metadata": {},
   "outputs": [
    {
     "name": "stdout",
     "output_type": "stream",
     "text": [
      "updated dictionary: {'name': 'sam', 'city': 'Delhi', 'gender': 'Male'}\n"
     ]
    }
   ],
   "source": [
    "#Creating a Dictionary \n",
    "d1 = {\"name\":\"sam\", \"age\":30, \"city\":\"Bangalore\"}\n",
    "\n",
    "#Addding\n",
    "d1[\"gender\"] = \"Male\"\n",
    "\n",
    "#removing\n",
    "del d1[\"age\"]\n",
    "\n",
    "#Modifying\n",
    "d1[\"city\"] = \"Delhi\"\n",
    "\n",
    "print(\"updated dictionary:\", d1)"
   ]
  },
  {
   "cell_type": "code",
   "execution_count": 14,
   "id": "ffcc06e7",
   "metadata": {},
   "outputs": [
    {
     "name": "stdout",
     "output_type": "stream",
     "text": [
      "Updated set: {2, 4, 5, 10, 11}\n"
     ]
    }
   ],
   "source": [
    "#Creating a set\n",
    "s1 = {1,2,3,4,5}\n",
    "\n",
    "#adding\n",
    "s1.add(10)\n",
    "\n",
    "#Removing\n",
    "s1.remove(3)\n",
    "\n",
    "#Modifying \n",
    "s1.discard(1)\n",
    "s1.add(11)\n",
    "\n",
    "print(\"Updated set:\", s1)"
   ]
  },
  {
   "cell_type": "code",
   "execution_count": null,
   "id": "eb5f4ec6",
   "metadata": {},
   "outputs": [],
   "source": []
  },
  {
   "cell_type": "code",
   "execution_count": null,
   "id": "5c3551ec",
   "metadata": {},
   "outputs": [],
   "source": []
  },
  {
   "cell_type": "code",
   "execution_count": null,
   "id": "77a63b12",
   "metadata": {},
   "outputs": [],
   "source": []
  }
 ],
 "metadata": {
  "kernelspec": {
   "display_name": "Python 3 (ipykernel)",
   "language": "python",
   "name": "python3"
  },
  "language_info": {
   "codemirror_mode": {
    "name": "ipython",
    "version": 3
   },
   "file_extension": ".py",
   "mimetype": "text/x-python",
   "name": "python",
   "nbconvert_exporter": "python",
   "pygments_lexer": "ipython3",
   "version": "3.11.5"
  }
 },
 "nbformat": 4,
 "nbformat_minor": 5
}
